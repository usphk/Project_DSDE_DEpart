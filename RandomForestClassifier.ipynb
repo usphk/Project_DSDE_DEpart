{
  "nbformat": 4,
  "nbformat_minor": 0,
  "metadata": {
    "colab": {
      "provenance": []
    },
    "kernelspec": {
      "name": "python3",
      "display_name": "Python 3"
    },
    "language_info": {
      "name": "python"
    }
  },
  "cells": [
    {
      "cell_type": "code",
      "source": [
        "!pip install gdown\n",
        "!gdown --id FILE_ID"
      ],
      "metadata": {
        "colab": {
          "base_uri": "https://localhost:8080/"
        },
        "id": "RIFNuiMx7JKF",
        "outputId": "7c130d71-2e54-49ff-a599-e32bbf5f1c01"
      },
      "execution_count": null,
      "outputs": [
        {
          "output_type": "stream",
          "name": "stdout",
          "text": [
            "Requirement already satisfied: gdown in /usr/local/lib/python3.10/dist-packages (5.2.0)\n",
            "Requirement already satisfied: beautifulsoup4 in /usr/local/lib/python3.10/dist-packages (from gdown) (4.12.3)\n",
            "Requirement already satisfied: filelock in /usr/local/lib/python3.10/dist-packages (from gdown) (3.16.1)\n",
            "Requirement already satisfied: requests[socks] in /usr/local/lib/python3.10/dist-packages (from gdown) (2.32.3)\n",
            "Requirement already satisfied: tqdm in /usr/local/lib/python3.10/dist-packages (from gdown) (4.66.6)\n",
            "Requirement already satisfied: soupsieve>1.2 in /usr/local/lib/python3.10/dist-packages (from beautifulsoup4->gdown) (2.6)\n",
            "Requirement already satisfied: charset-normalizer<4,>=2 in /usr/local/lib/python3.10/dist-packages (from requests[socks]->gdown) (3.4.0)\n",
            "Requirement already satisfied: idna<4,>=2.5 in /usr/local/lib/python3.10/dist-packages (from requests[socks]->gdown) (3.10)\n",
            "Requirement already satisfied: urllib3<3,>=1.21.1 in /usr/local/lib/python3.10/dist-packages (from requests[socks]->gdown) (2.2.3)\n",
            "Requirement already satisfied: certifi>=2017.4.17 in /usr/local/lib/python3.10/dist-packages (from requests[socks]->gdown) (2024.8.30)\n",
            "Requirement already satisfied: PySocks!=1.5.7,>=1.5.6 in /usr/local/lib/python3.10/dist-packages (from requests[socks]->gdown) (1.7.1)\n",
            "/usr/local/lib/python3.10/dist-packages/gdown/__main__.py:140: FutureWarning: Option `--id` was deprecated in version 4.3.1 and will be removed in 5.0. You don't need to pass it anymore to use a file ID.\n",
            "  warnings.warn(\n",
            "Failed to retrieve file url:\n",
            "\n",
            "\tCannot retrieve the public link of the file. You may need to change\n",
            "\tthe permission to 'Anyone with the link', or have had many accesses.\n",
            "\tCheck FAQ in https://github.com/wkentaro/gdown?tab=readme-ov-file#faq.\n",
            "\n",
            "You may still be able to access the file from the browser:\n",
            "\n",
            "\thttps://drive.google.com/uc?id=FILE_ID\n",
            "\n",
            "but Gdown can't. Please check connections and permissions.\n"
          ]
        }
      ]
    },
    {
      "cell_type": "code",
      "source": [],
      "metadata": {
        "colab": {
          "base_uri": "https://localhost:8080/"
        },
        "id": "C7j6L8Qr7MNm",
        "outputId": "a9a43171-9fb0-4342-f3a4-ed984760e82f"
      },
      "execution_count": null,
      "outputs": [
        {
          "output_type": "stream",
          "name": "stdout",
          "text": [
            "/usr/local/lib/python3.10/dist-packages/gdown/__main__.py:140: FutureWarning: Option `--id` was deprecated in version 4.3.1 and will be removed in 5.0. You don't need to pass it anymore to use a file ID.\n",
            "  warnings.warn(\n",
            "Downloading...\n",
            "From: https://drive.google.com/uc?id=1omxELSuoIvOLwUmwu8PwJjKwetc4M5gg\n",
            "To: /content/train_data.csv\n",
            "100% 46.4M/46.4M [00:00<00:00, 98.7MB/s]\n"
          ]
        }
      ]
    },
    {
      "cell_type": "code",
      "source": [
        "import pandas as pd\n",
        "from sklearn.model_selection import train_test_split\n",
        "from sklearn.ensemble import RandomForestClassifier\n",
        "from sklearn.metrics import accuracy_score, confusion_matrix, classification_report\n",
        "import time\n",
        "\n",
        "# อ่านข้อมูล\n",
        "#https://drive.google.com/file/d/1r_N1oSpahH4tS25g-6pJdbnt2QaqKsKw/view?usp=drive_link\n",
        "!gdown --id 1r_N1oSpahH4tS25g-6pJdbnt2QaqKsKw\n",
        "file_path = 'trainss_data (1).csv'\n",
        "df = pd.read_csv(file_path)\n",
        "\n",
        "# แยก Features และ Target\n",
        "X = df.drop(columns=['FWCI'])  # ลบคอลัมน์ Target\n",
        "y = df['FWCI']  # Target\n",
        "\n",
        "# แบ่งข้อมูลเป็น Train/Test\n",
        "X_train, X_test, y_train, y_test = train_test_split(X, y, test_size=0.2, random_state=42)\n",
        "\n",
        "# จับเวลาเริ่มต้น\n",
        "start_time = time.time()\n",
        "\n",
        "# สร้างโมเดล Random Forest Classifier\n",
        "model = RandomForestClassifier(n_estimators=100, max_depth=None, random_state=42, n_jobs=-1)\n",
        "\n",
        "# เทรนโมเดล\n",
        "model.fit(X_train, y_train)\n",
        "\n",
        "# จับเวลาสิ้นสุด\n",
        "end_time = time.time()\n",
        "\n",
        "# ทำนายผล\n",
        "y_pred = model.predict(X_test)\n",
        "\n",
        "# ประเมินผล\n",
        "accuracy = accuracy_score(y_test, y_pred)\n",
        "conf_matrix = confusion_matrix(y_test, y_pred)\n",
        "class_report = classification_report(y_test, y_pred)\n",
        "\n",
        "# แสดงผล\n",
        "print(f\"Random Forest Classifier:\")\n",
        "print(f\"Training Time: {end_time - start_time:.2f} seconds\")\n",
        "print(f\"Accuracy: {accuracy}\")\n",
        "print(f\"Confusion Matrix:\\n{conf_matrix}\")\n",
        "print(f\"Classification Report:\\n{class_report}\")"
      ],
      "metadata": {
        "colab": {
          "base_uri": "https://localhost:8080/"
        },
        "id": "_UZhj8XydSJW",
        "outputId": "17a1335b-e1df-4cc7-a5a5-eeda884d20e2"
      },
      "execution_count": null,
      "outputs": [
        {
          "output_type": "stream",
          "name": "stdout",
          "text": [
            "/usr/local/lib/python3.10/dist-packages/gdown/__main__.py:140: FutureWarning: Option `--id` was deprecated in version 4.3.1 and will be removed in 5.0. You don't need to pass it anymore to use a file ID.\n",
            "  warnings.warn(\n",
            "Downloading...\n",
            "From: https://drive.google.com/uc?id=1r_N1oSpahH4tS25g-6pJdbnt2QaqKsKw\n",
            "To: /content/trainss_data (1).csv\n",
            "100% 32.1M/32.1M [00:00<00:00, 36.7MB/s]\n",
            "Random Forest Classifier:\n",
            "Training Time: 16.95 seconds\n",
            "Accuracy: 0.7786593707250342\n",
            "Confusion Matrix:\n",
            "[[2225  271]\n",
            " [ 538  621]]\n",
            "Classification Report:\n",
            "              precision    recall  f1-score   support\n",
            "\n",
            "         0.0       0.81      0.89      0.85      2496\n",
            "         1.0       0.70      0.54      0.61      1159\n",
            "\n",
            "    accuracy                           0.78      3655\n",
            "   macro avg       0.75      0.71      0.73      3655\n",
            "weighted avg       0.77      0.78      0.77      3655\n",
            "\n"
          ]
        }
      ]
    }
  ]
}